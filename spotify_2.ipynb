{
  "cells": [
    {
      "cell_type": "code",
      "execution_count": 2,
      "id": "88c009f6",
      "metadata": {
        "id": "88c009f6"
      },
      "outputs": [],
      "source": [
        "import pandas as pd\n",
        "import numpy as np\n",
        "import seaborn as sns\n",
        "import matplotlib.pyplot as plt\n",
        "import warnings\n",
        "warnings.filterwarnings('ignore')"
      ]
    },
    {
      "cell_type": "code",
      "execution_count": 3,
      "id": "a9a02a5d",
      "metadata": {
        "id": "a9a02a5d"
      },
      "outputs": [],
      "source": [
        "df = pd.read_csv('spotify_data.csv')"
      ]
    },
    {
      "cell_type": "code",
      "execution_count": 4,
      "id": "8b692618",
      "metadata": {
        "colab": {
          "base_uri": "https://localhost:8080/",
          "height": 309
        },
        "id": "8b692618",
        "outputId": "91c84fdd-e237-4f04-af7d-0a135d6fa363"
      },
      "outputs": [
        {
          "data": {
            "text/html": [
              "<div>\n",
              "<style scoped>\n",
              "    .dataframe tbody tr th:only-of-type {\n",
              "        vertical-align: middle;\n",
              "    }\n",
              "\n",
              "    .dataframe tbody tr th {\n",
              "        vertical-align: top;\n",
              "    }\n",
              "\n",
              "    .dataframe thead th {\n",
              "        text-align: right;\n",
              "    }\n",
              "</style>\n",
              "<table border=\"1\" class=\"dataframe\">\n",
              "  <thead>\n",
              "    <tr style=\"text-align: right;\">\n",
              "      <th></th>\n",
              "      <th>Unnamed: 0</th>\n",
              "      <th>artist_name</th>\n",
              "      <th>track_name</th>\n",
              "      <th>track_id</th>\n",
              "      <th>popularity</th>\n",
              "      <th>year</th>\n",
              "      <th>genre</th>\n",
              "      <th>danceability</th>\n",
              "      <th>energy</th>\n",
              "      <th>key</th>\n",
              "      <th>loudness</th>\n",
              "      <th>mode</th>\n",
              "      <th>speechiness</th>\n",
              "      <th>acousticness</th>\n",
              "      <th>instrumentalness</th>\n",
              "      <th>liveness</th>\n",
              "      <th>valence</th>\n",
              "      <th>tempo</th>\n",
              "      <th>duration_ms</th>\n",
              "      <th>time_signature</th>\n",
              "    </tr>\n",
              "  </thead>\n",
              "  <tbody>\n",
              "    <tr>\n",
              "      <th>0</th>\n",
              "      <td>0</td>\n",
              "      <td>Jason Mraz</td>\n",
              "      <td>I Won't Give Up</td>\n",
              "      <td>53QF56cjZA9RTuuMZDrSA6</td>\n",
              "      <td>68</td>\n",
              "      <td>2012</td>\n",
              "      <td>acoustic</td>\n",
              "      <td>0.483</td>\n",
              "      <td>0.303</td>\n",
              "      <td>4</td>\n",
              "      <td>-10.058</td>\n",
              "      <td>1</td>\n",
              "      <td>0.0429</td>\n",
              "      <td>0.6940</td>\n",
              "      <td>0.000000</td>\n",
              "      <td>0.1150</td>\n",
              "      <td>0.139</td>\n",
              "      <td>133.406</td>\n",
              "      <td>240166</td>\n",
              "      <td>3</td>\n",
              "    </tr>\n",
              "    <tr>\n",
              "      <th>1</th>\n",
              "      <td>1</td>\n",
              "      <td>Jason Mraz</td>\n",
              "      <td>93 Million Miles</td>\n",
              "      <td>1s8tP3jP4GZcyHDsjvw218</td>\n",
              "      <td>50</td>\n",
              "      <td>2012</td>\n",
              "      <td>acoustic</td>\n",
              "      <td>0.572</td>\n",
              "      <td>0.454</td>\n",
              "      <td>3</td>\n",
              "      <td>-10.286</td>\n",
              "      <td>1</td>\n",
              "      <td>0.0258</td>\n",
              "      <td>0.4770</td>\n",
              "      <td>0.000014</td>\n",
              "      <td>0.0974</td>\n",
              "      <td>0.515</td>\n",
              "      <td>140.182</td>\n",
              "      <td>216387</td>\n",
              "      <td>4</td>\n",
              "    </tr>\n",
              "    <tr>\n",
              "      <th>2</th>\n",
              "      <td>2</td>\n",
              "      <td>Joshua Hyslop</td>\n",
              "      <td>Do Not Let Me Go</td>\n",
              "      <td>7BRCa8MPiyuvr2VU3O9W0F</td>\n",
              "      <td>57</td>\n",
              "      <td>2012</td>\n",
              "      <td>acoustic</td>\n",
              "      <td>0.409</td>\n",
              "      <td>0.234</td>\n",
              "      <td>3</td>\n",
              "      <td>-13.711</td>\n",
              "      <td>1</td>\n",
              "      <td>0.0323</td>\n",
              "      <td>0.3380</td>\n",
              "      <td>0.000050</td>\n",
              "      <td>0.0895</td>\n",
              "      <td>0.145</td>\n",
              "      <td>139.832</td>\n",
              "      <td>158960</td>\n",
              "      <td>4</td>\n",
              "    </tr>\n",
              "    <tr>\n",
              "      <th>3</th>\n",
              "      <td>3</td>\n",
              "      <td>Boyce Avenue</td>\n",
              "      <td>Fast Car</td>\n",
              "      <td>63wsZUhUZLlh1OsyrZq7sz</td>\n",
              "      <td>58</td>\n",
              "      <td>2012</td>\n",
              "      <td>acoustic</td>\n",
              "      <td>0.392</td>\n",
              "      <td>0.251</td>\n",
              "      <td>10</td>\n",
              "      <td>-9.845</td>\n",
              "      <td>1</td>\n",
              "      <td>0.0363</td>\n",
              "      <td>0.8070</td>\n",
              "      <td>0.000000</td>\n",
              "      <td>0.0797</td>\n",
              "      <td>0.508</td>\n",
              "      <td>204.961</td>\n",
              "      <td>304293</td>\n",
              "      <td>4</td>\n",
              "    </tr>\n",
              "    <tr>\n",
              "      <th>4</th>\n",
              "      <td>4</td>\n",
              "      <td>Andrew Belle</td>\n",
              "      <td>Sky's Still Blue</td>\n",
              "      <td>6nXIYClvJAfi6ujLiKqEq8</td>\n",
              "      <td>54</td>\n",
              "      <td>2012</td>\n",
              "      <td>acoustic</td>\n",
              "      <td>0.430</td>\n",
              "      <td>0.791</td>\n",
              "      <td>6</td>\n",
              "      <td>-5.419</td>\n",
              "      <td>0</td>\n",
              "      <td>0.0302</td>\n",
              "      <td>0.0726</td>\n",
              "      <td>0.019300</td>\n",
              "      <td>0.1100</td>\n",
              "      <td>0.217</td>\n",
              "      <td>171.864</td>\n",
              "      <td>244320</td>\n",
              "      <td>4</td>\n",
              "    </tr>\n",
              "  </tbody>\n",
              "</table>\n",
              "</div>"
            ],
            "text/plain": [
              "   Unnamed: 0    artist_name        track_name                track_id  \\\n",
              "0           0     Jason Mraz   I Won't Give Up  53QF56cjZA9RTuuMZDrSA6   \n",
              "1           1     Jason Mraz  93 Million Miles  1s8tP3jP4GZcyHDsjvw218   \n",
              "2           2  Joshua Hyslop  Do Not Let Me Go  7BRCa8MPiyuvr2VU3O9W0F   \n",
              "3           3   Boyce Avenue          Fast Car  63wsZUhUZLlh1OsyrZq7sz   \n",
              "4           4   Andrew Belle  Sky's Still Blue  6nXIYClvJAfi6ujLiKqEq8   \n",
              "\n",
              "   popularity  year     genre  danceability  energy  key  loudness  mode  \\\n",
              "0          68  2012  acoustic         0.483   0.303    4   -10.058     1   \n",
              "1          50  2012  acoustic         0.572   0.454    3   -10.286     1   \n",
              "2          57  2012  acoustic         0.409   0.234    3   -13.711     1   \n",
              "3          58  2012  acoustic         0.392   0.251   10    -9.845     1   \n",
              "4          54  2012  acoustic         0.430   0.791    6    -5.419     0   \n",
              "\n",
              "   speechiness  acousticness  instrumentalness  liveness  valence    tempo  \\\n",
              "0       0.0429        0.6940          0.000000    0.1150    0.139  133.406   \n",
              "1       0.0258        0.4770          0.000014    0.0974    0.515  140.182   \n",
              "2       0.0323        0.3380          0.000050    0.0895    0.145  139.832   \n",
              "3       0.0363        0.8070          0.000000    0.0797    0.508  204.961   \n",
              "4       0.0302        0.0726          0.019300    0.1100    0.217  171.864   \n",
              "\n",
              "   duration_ms  time_signature  \n",
              "0       240166               3  \n",
              "1       216387               4  \n",
              "2       158960               4  \n",
              "3       304293               4  \n",
              "4       244320               4  "
            ]
          },
          "execution_count": 4,
          "metadata": {},
          "output_type": "execute_result"
        }
      ],
      "source": [
        "df.head()"
      ]
    },
    {
      "cell_type": "code",
      "execution_count": 5,
      "id": "c934f1c5",
      "metadata": {
        "id": "c934f1c5"
      },
      "outputs": [],
      "source": [
        "def popularity(x):\n",
        "    if x['popularity'] > 70:\n",
        "        return 1\n",
        "    else:\n",
        "        return 0"
      ]
    },
    {
      "cell_type": "code",
      "execution_count": 8,
      "id": "286db98e",
      "metadata": {
        "id": "286db98e"
      },
      "outputs": [],
      "source": [
        "df['popular'] = df.apply(popularity, axis = 1)"
      ]
    },
    {
      "cell_type": "markdown",
      "id": "117331f8",
      "metadata": {
        "id": "117331f8"
      },
      "source": [
        "## **Logistic Regression Model**"
      ]
    },
    {
      "cell_type": "code",
      "execution_count": 7,
      "id": "d10e441e",
      "metadata": {
        "id": "d10e441e"
      },
      "outputs": [],
      "source": [
        "from sklearn.model_selection import train_test_split\n",
        "from sklearn.linear_model import LogisticRegression\n",
        "from sklearn.linear_model import RidgeClassifier\n",
        "from sklearn.metrics import accuracy_score, precision_score, recall_score, f1_score, precision_recall_curve\n",
        "from sklearn.metrics import classification_report\n",
        "from sklearn.metrics import confusion_matrix, ConfusionMatrixDisplay\n",
        "from sklearn.metrics import RocCurveDisplay\n",
        "from sklearn.metrics import roc_curve, roc_auc_score"
      ]
    },
    {
      "cell_type": "code",
      "execution_count": 73,
      "id": "fc2d8ec0",
      "metadata": {
        "id": "fc2d8ec0"
      },
      "outputs": [],
      "source": [
        "from sklearn.preprocessing import OneHotEncoder, StandardScaler\n",
        "from sklearn.compose import ColumnTransformer\n",
        "from sklearn.pipeline import Pipeline"
      ]
    },
    {
      "cell_type": "code",
      "execution_count": 74,
      "id": "2b840df6",
      "metadata": {
        "id": "2b840df6"
      },
      "outputs": [],
      "source": [
        "y = df['popular']"
      ]
    },
    {
      "cell_type": "code",
      "execution_count": 75,
      "id": "28e66d4c",
      "metadata": {
        "id": "28e66d4c"
      },
      "outputs": [],
      "source": [
        "X = df.drop(['popular', 'popularity'], axis = 1)"
      ]
    },
    {
      "cell_type": "code",
      "execution_count": 76,
      "id": "018e955a",
      "metadata": {
        "id": "018e955a"
      },
      "outputs": [],
      "source": [
        "numeric_features = X.select_dtypes(include=['int64','float64']).columns.tolist()\n",
        "categorical_features = X.select_dtypes(include=['object','category']).columns.tolist()"
      ]
    },
    {
      "cell_type": "code",
      "execution_count": 77,
      "id": "683b5748",
      "metadata": {
        "id": "683b5748"
      },
      "outputs": [],
      "source": [
        "preprocessor = ColumnTransformer([\n",
        "    ('num', StandardScaler(), numeric_features),\n",
        "    ('cat', OneHotEncoder(handle_unknown='ignore'), categorical_features)\n",
        "])"
      ]
    },
    {
      "cell_type": "code",
      "execution_count": 78,
      "id": "565f1bc1",
      "metadata": {
        "id": "565f1bc1"
      },
      "outputs": [],
      "source": [
        "logreg_pipeline = Pipeline([\n",
        "    ('preprocessor', preprocessor),\n",
        "    ('classifier', LogisticRegression(\n",
        "        penalty='l2',\n",
        "        C=0.1,\n",
        "        solver='saga',\n",
        "        class_weight='balanced',\n",
        "        max_iter=1000,\n",
        "        n_jobs=-1,\n",
        "        random_state=42\n",
        "    ))\n",
        "])"
      ]
    },
    {
      "cell_type": "code",
      "execution_count": 79,
      "id": "3318fb54",
      "metadata": {
        "id": "3318fb54"
      },
      "outputs": [],
      "source": [
        "X_train, X_test, y_train, y_test = train_test_split(\n",
        "    X, y, test_size=0.2, stratify=y, random_state=42\n",
        ")"
      ]
    },
    {
      "cell_type": "code",
      "execution_count": 85,
      "id": "609a815d",
      "metadata": {
        "id": "609a815d"
      },
      "outputs": [],
      "source": [
        "clf = logreg_pipeline.fit(X_train, y_train)"
      ]
    },
    {
      "cell_type": "code",
      "execution_count": 89,
      "id": "c593a5a7",
      "metadata": {
        "id": "c593a5a7"
      },
      "outputs": [],
      "source": [
        "y_pred_lg = clf.predict(X_test)"
      ]
    },
    {
      "cell_type": "code",
      "execution_count": 90,
      "id": "78a31636",
      "metadata": {
        "id": "78a31636",
        "outputId": "6568f403-d1b8-46bd-f33a-b3118e944dc3"
      },
      "outputs": [
        {
          "data": {
            "image/png": "[encoded data removed]",
            "text/plain": [
              "<Figure size 640x480 with 2 Axes>"
            ]
          },
          "metadata": {},
          "output_type": "display_data"
        }
      ],
      "source": [
        "cm = confusion_matrix(y_test, y_pred_lg, normalize='true')\n",
        "disp = ConfusionMatrixDisplay(confusion_matrix=cm)\n",
        "disp.plot()\n",
        "\n",
        "plt.show()"
      ]
    },
    {
      "cell_type": "code",
      "execution_count": 7,
      "id": "5fb9d09c",
      "metadata": {
        "id": "5fb9d09c"
      },
      "outputs": [],
      "source": [
        "def model_quality_class(y_true, y_pred, average='binary'):\n",
        "    print('Accuracy =', accuracy_score(y_true, y_pred))\n",
        "    print('Precision =', precision_score(y_true, y_pred, zero_division=0, average=average))\n",
        "    print('Recall =', recall_score(y_true, y_pred, average=average))\n",
        "    print('F1 =', f1_score(y_true, y_pred, average=average))"
      ]
    },
    {
      "cell_type": "code",
      "execution_count": 20,
      "id": "d9dd12bc",
      "metadata": {
        "id": "d9dd12bc",
        "outputId": "2813b07c-50c4-4c0d-be87-980a6ce8756a"
      },
      "outputs": [
        {
          "name": "stdout",
          "output_type": "stream",
          "text": [
            "Accuracy = 0.9768616918082542\n",
            "Precision = 0.07501330023053733\n",
            "Recall = 0.7369337979094077\n",
            "F1 = 0.1361661033317238\n"
          ]
        }
      ],
      "source": [
        "model_quality_class(y_test, y_pred_lg)"
      ]
    },
    {
      "cell_type": "code",
      "execution_count": 21,
      "id": "ec85b492",
      "metadata": {
        "id": "ec85b492",
        "outputId": "c49f2e28-0ee8-4c2b-baf2-68a00eb0851e"
      },
      "outputs": [
        {
          "name": "stdout",
          "output_type": "stream",
          "text": [
            "ROC AUC = 0.973\n"
          ]
        }
      ],
      "source": [
        "probs = logreg_pipeline.predict_proba(X_test)[:, 1]\n",
        "\n",
        "fpr, tpr, thresholds = roc_curve(y_test, probs)\n",
        "\n",
        "auc_value = roc_auc_score(y_test, probs)\n",
        "print(f\"ROC AUC = {auc_value:.3f}\")\n"
      ]
    },
    {
      "cell_type": "code",
      "execution_count": 23,
      "id": "888c7b80",
      "metadata": {
        "id": "888c7b80",
        "outputId": "5f454439-c78c-4f48-8e25-6281e3d17956"
      },
      "outputs": [
        {
          "data": {
            "image/png": "[encoded data removed]",
            "text/plain": [
              "<Figure size 700x500 with 1 Axes>"
            ]
          },
          "metadata": {},
          "output_type": "display_data"
        }
      ],
      "source": [
        "plt.figure(figsize=(7, 5))\n",
        "plt.plot(fpr, tpr, label=f'ROC curve (AUC = {auc_value:.3f})')\n",
        "plt.plot([0, 1], [0, 1], linestyle='--', label='Random guess')\n",
        "\n",
        "plt.xlabel('False Positive Rate')\n",
        "plt.ylabel('True Positive Rate')\n",
        "plt.title('ROC Curve для модели Logit')\n",
        "plt.legend(loc='lower right')\n",
        "plt.grid(True)\n",
        "plt.tight_layout()\n",
        "plt.show()"
      ]
    },
    {
      "cell_type": "markdown",
      "id": "861ef8b5",
      "metadata": {},
      "source": [
        "Логистическая регрессия на аудио-признаках показывает парадоксальный, но объяснимый набор метрик: accuracy почти 0,98 обманчиво высока из-за дисбаланса классов, precision всего 7,5 % предупреждает о дорогих ложноположительных решениях, тогда как recall 0,74 и ROC-AUC 0,97 доказывают, что модель великолепно ранжирует треки и почти не упускает настоящие хиты, если использовать её именно как приоритизатор. Это сочетание открывает три взаимодополняющих бизнес-направления.\n",
        "\n",
        "Во-первых, оптимизация маркетингового бюджета: прогноз «вероятности хита» позволяет маркетинговой команде выставлять градации приоритета — от агрессивного продвижения с инфлюенсерами и платным плейсментом до минимального упоминания в соцсетях. Благодаря высокой ранжирующей способности модели можно гибко двигать порог: для дорогих каналов (TV, билборды) выбрать верхние 1–2 % треков, добиваясь precision, приемлемой для крупных затрат, а для более дешёвых digital-активаций расширять окно до 5–10 %, сохраняя высокий recall. В итоге меньше средств уходит «в никуда», а ROI кампаний растёт.\n",
        "\n",
        "Во-вторых, поиск новых артистов и работа с лейблами (talent scouting). Здесь ценен именно высокий recall: сервис, фильтрует тысячи демо-заявок и выносит наверх 20–30 треков с максимальным Hit-Score, среди которых почти три четверти будущих хитов уже присутствуют. Лейбл получает возможность подписать малоизвестного исполнителя на эксклюзивных условиях до того, как конкуренты разглядят потенциал, а артист взамен получает продюсерскую и маркетинговую поддержку. Низкая precision не критична: прослушивание shortlist стоит лишь времени A&R-команды, тогда как пропуск молодого «бриллианта» обернётся упущенными правами и будущим стриминговым доходом.\n",
        "\n",
        "Наконец, рост вовлечённости и удержания пользователей на стриминговой платформе. В плейлистах-рекомендациях и разделе «Тренды» можно алгоритмически повышать ранжирование треков с высокой вероятностью хита, ускоряя их попадание в уши слушателей. Для фронт-энда это выглядит как более своевременное появление «песен-крючков», что увеличивает количество прослушиваний на пользователя, снижает churn и поднимает LTV. Ошибочный пуш «не-хита» в ленту не столь опасен — пользователь просто переключит трек, тогда как раннее появление настоящего хита формирует эмоциональную привязанность к сервису («здесь музыка открывается раньше»).\n",
        "\n",
        "Таким образом, одна и та же модель, правильно интерпретированная, даёт трёхуровневую пользу: экономит бюджет, приносит эксклюзивный контент через ранние контракты и усиливает пользовательскую лояльность за счёт более точных рекомендаций. Ключевой принцип — не превращать бинарный вывод модели в окончательный вердикт, а использовать её ранговый потенциал там, где каждая сторона (маркетолог, A&R-специалист, рекомендательная система) способна добавить человеческую экспертизу и минимизировать стоимость ошибки."
      ]
    },
    {
      "cell_type": "markdown",
      "id": "5c497c53",
      "metadata": {
        "id": "5c497c53"
      },
      "source": [
        "## **Decision trees**"
      ]
    },
    {
      "cell_type": "code",
      "execution_count": 27,
      "id": "0083f53d",
      "metadata": {
        "id": "0083f53d"
      },
      "outputs": [],
      "source": [
        "from sklearn.ensemble import RandomForestClassifier, GradientBoostingClassifier, HistGradientBoostingClassifier\n",
        "from imblearn.over_sampling import SMOTE"
      ]
    },
    {
      "cell_type": "code",
      "execution_count": 9,
      "id": "28f4e207",
      "metadata": {
        "id": "28f4e207"
      },
      "outputs": [],
      "source": [
        "X = df.drop(['popular', 'popularity'], axis=1)\n",
        "y = df['popular']"
      ]
    },
    {
      "cell_type": "code",
      "execution_count": null,
      "id": "18bf6571",
      "metadata": {
        "id": "18bf6571"
      },
      "outputs": [],
      "source": [
        "rf_pipeline = Pipeline([\n",
        "    ('pre', preprocessor),\n",
        "    ('clf', RandomForestClassifier(\n",
        "        n_estimators=500,\n",
        "        max_depth=100,\n",
        "        class_weight='balanced',\n",
        "        max_features='sqrt',\n",
        "        max_samples=0.8,\n",
        "        n_jobs=-1,\n",
        "        random_state=42\n",
        "    ))\n",
        "])"
      ]
    },
    {
      "cell_type": "code",
      "execution_count": 39,
      "id": "e5255938",
      "metadata": {
        "id": "e5255938"
      },
      "outputs": [],
      "source": [
        "X_train, X_test, y_train, y_test = train_test_split(\n",
        "    X, y, test_size=0.2, random_state=42\n",
        ")"
      ]
    },
    {
      "cell_type": "code",
      "execution_count": 40,
      "id": "32b5bb90",
      "metadata": {
        "id": "32b5bb90"
      },
      "outputs": [],
      "source": [
        "rf_pipeline.fit(X_train, y_train)\n",
        "y_pred_rf = rf_pipeline.predict(X_test)"
      ]
    },
    {
      "cell_type": "code",
      "execution_count": 41,
      "id": "b58e4469",
      "metadata": {
        "id": "b58e4469",
        "outputId": "6992eecc-19b7-4a04-ca3e-bcde575c9639"
      },
      "outputs": [
        {
          "data": {
            "image/png": "[encoded data removed]",
            "text/plain": [
              "<Figure size 640x480 with 2 Axes>"
            ]
          },
          "metadata": {},
          "output_type": "display_data"
        }
      ],
      "source": [
        "cm = confusion_matrix(y_test, y_pred_rf, normalize='true')\n",
        "disp = ConfusionMatrixDisplay(confusion_matrix=cm)\n",
        "disp.plot()\n",
        "\n",
        "plt.show()"
      ]
    },
    {
      "cell_type": "code",
      "execution_count": null,
      "id": "e890fb02",
      "metadata": {
        "id": "e890fb02",
        "outputId": "d4101dd5-e937-4bb5-8fb9-d21fd83f7540"
      },
      "outputs": [
        {
          "name": "stdout",
          "output_type": "stream",
          "text": [
            "Accuracy = 0.9450276564648873\n",
            "Precision = 0.031018518518518518\n",
            "Recall = 0.6756302521008404\n",
            "F1 = 0.059313906307635555\n"
          ]
        }
      ],
      "source": [
        "model_quality_class(y_test, y_pred_rf)"
      ]
    },
    {
      "cell_type": "code",
      "execution_count": 43,
      "id": "_nHnYIi3xkVT",
      "metadata": {
        "id": "_nHnYIi3xkVT"
      },
      "outputs": [],
      "source": [
        "from sklearn.impute import SimpleImputer\n",
        "from sklearn.preprocessing import StandardScaler, OrdinalEncoder\n",
        "from imblearn.pipeline import Pipeline  \n",
        "\n",
        "numeric_pipeline = Pipeline([\n",
        "    ('imputer', SimpleImputer(strategy='median')),\n",
        "    ('scaler',   StandardScaler())\n",
        "])\n",
        "\n",
        "categorical_pipeline = Pipeline([\n",
        "    ('imputer', SimpleImputer(strategy='constant', fill_value='__missing__')),\n",
        "    ('encoder', OrdinalEncoder(\n",
        "        handle_unknown='use_encoded_value',\n",
        "        unknown_value=-1\n",
        "    ))\n",
        "])\n",
        "\n",
        "preprocessor = ColumnTransformer([\n",
        "    ('num', numeric_pipeline,     numeric_features),\n",
        "    ('cat', categorical_pipeline, categorical_features)\n",
        "])"
      ]
    },
    {
      "cell_type": "code",
      "execution_count": 59,
      "id": "LcVVWMzBxkg6",
      "metadata": {
        "id": "LcVVWMzBxkg6"
      },
      "outputs": [],
      "source": [
        "gb_pipeline = Pipeline([\n",
        "    ('pre',   preprocessor),\n",
        "    ('smote', SMOTE(random_state=42, n_jobs=-1)),\n",
        "    ('clf',   HistGradientBoostingClassifier(\n",
        "        max_iter=500,\n",
        "        learning_rate=0.01,\n",
        "        max_depth=50,\n",
        "        class_weight='balanced',\n",
        "        early_stopping=True,\n",
        "        validation_fraction=0.1,\n",
        "        n_iter_no_change=10,\n",
        "        random_state=42\n",
        "    ))\n",
        "])"
      ]
    },
    {
      "cell_type": "code",
      "execution_count": 60,
      "id": "E2XAkaS2xnnE",
      "metadata": {
        "id": "E2XAkaS2xnnE"
      },
      "outputs": [],
      "source": [
        "X_train, X_test, y_train, y_test = train_test_split(\n",
        "    X, y, test_size=0.2, stratify=y, random_state=42\n",
        ")"
      ]
    },
    {
      "cell_type": "code",
      "execution_count": 61,
      "id": "Foa9X5VpUKLO",
      "metadata": {
        "colab": {
          "base_uri": "https://localhost:8080/",
          "height": 246
        },
        "id": "Foa9X5VpUKLO",
        "outputId": "cda44829-0d6f-4131-e803-591048992f77"
      },
      "outputs": [
        {
          "data": {
            "text/html": [
              "<style>#sk-container-id-5 {\n",
              "  /* Definition of color scheme common for light and dark mode */\n",
              "  --sklearn-color-text: #000;\n",
              "  --sklearn-color-text-muted: #666;\n",
              "  --sklearn-color-line: gray;\n",
              "  /* Definition of color scheme for unfitted estimators */\n",
              "  --sklearn-color-unfitted-level-0: #fff5e6;\n",
              "  --sklearn-color-unfitted-level-1: #f6e4d2;\n",
              "  --sklearn-color-unfitted-level-2: #ffe0b3;\n",
              "  --sklearn-color-unfitted-level-3: chocolate;\n",
              "  /* Definition of color scheme for fitted estimators */\n",
              "  --sklearn-color-fitted-level-0: #f0f8ff;\n",
              "  --sklearn-color-fitted-level-1: #d4ebff;\n",
              "  --sklearn-color-fitted-level-2: #b3dbfd;\n",
              "  --sklearn-color-fitted-level-3: cornflowerblue;\n",
              "\n",
              "  /* Specific color for light theme */\n",
              "  --sklearn-color-text-on-default-background: var(--sg-text-color, var(--theme-code-foreground, var(--jp-content-font-color1, black)));\n",
              "  --sklearn-color-background: var(--sg-background-color, var(--theme-background, var(--jp-layout-color0, white)));\n",
              "  --sklearn-color-border-box: var(--sg-text-color, var(--theme-code-foreground, var(--jp-content-font-color1, black)));\n",
              "  --sklearn-color-icon: #696969;\n",
              "\n",
              "  @media (prefers-color-scheme: dark) {\n",
              "    /* Redefinition of color scheme for dark theme */\n",
              "    --sklearn-color-text-on-default-background: var(--sg-text-color, var(--theme-code-foreground, var(--jp-content-font-color1, white)));\n",
              "    --sklearn-color-background: var(--sg-background-color, var(--theme-background, var(--jp-layout-color0, #111)));\n",
              "    --sklearn-color-border-box: var(--sg-text-color, var(--theme-code-foreground, var(--jp-content-font-color1, white)));\n",
              "    --sklearn-color-icon: #878787;\n",
              "  }\n",
              "}\n",
              "\n",
              "#sk-container-id-5 {\n",
              "  color: var(--sklearn-color-text);\n",
              "}\n",
              "\n",
              "#sk-container-id-5 pre {\n",
              "  padding: 0;\n",
              "}\n",
              "\n",
              "#sk-container-id-5 input.sk-hidden--visually {\n",
              "  border: 0;\n",
              "  clip: rect(1px 1px 1px 1px);\n",
              "  clip: rect(1px, 1px, 1px, 1px);\n",
              "  height: 1px;\n",
              "  margin: -1px;\n",
              "  overflow: hidden;\n",
              "  padding: 0;\n",
              "  position: absolute;\n",
              "  width: 1px;\n",
              "}\n",
              "\n",
              "#sk-container-id-5 div.sk-dashed-wrapped {\n",
              "  border: 1px dashed var(--sklearn-color-line);\n",
              "  margin: 0 0.4em 0.5em 0.4em;\n",
              "  box-sizing: border-box;\n",
              "  padding-bottom: 0.4em;\n",
              "  background-color: var(--sklearn-color-background);\n",
              "}\n",
              "\n",
              "#sk-container-id-5 div.sk-container {\n",
              "  /* jupyter's `normalize.less` sets `[hidden] { display: none; }`\n",
              "     but bootstrap.min.css set `[hidden] { display: none !important; }`\n",
              "     so we also need the `!important` here to be able to override the\n",
              "     default hidden behavior on the sphinx rendered scikit-learn.org.\n",
              "     See: https://github.com/scikit-learn/scikit-learn/issues/21755 */\n",
              "  display: inline-block !important;\n",
              "  position: relative;\n",
              "}\n",
              "\n",
              "#sk-container-id-5 div.sk-text-repr-fallback {\n",
              "  display: none;\n",
              "}\n",
              "\n",
              "div.sk-parallel-item,\n",
              "div.sk-serial,\n",
              "div.sk-item {\n",
              "  /* draw centered vertical line to link estimators */\n",
              "  background-image: linear-gradient(var(--sklearn-color-text-on-default-background), var(--sklearn-color-text-on-default-background));\n",
              "  background-size: 2px 100%;\n",
              "  background-repeat: no-repeat;\n",
              "  background-position: center center;\n",
              "}\n",
              "\n",
              "/* Parallel-specific style estimator block */\n",
              "\n",
              "#sk-container-id-5 div.sk-parallel-item::after {\n",
              "  content: \"\";\n",
              "  width: 100%;\n",
              "  border-bottom: 2px solid var(--sklearn-color-text-on-default-background);\n",
              "  flex-grow: 1;\n",
              "}\n",
              "\n",
              "#sk-container-id-5 div.sk-parallel {\n",
              "  display: flex;\n",
              "  align-items: stretch;\n",
              "  justify-content: center;\n",
              "  background-color: var(--sklearn-color-background);\n",
              "  position: relative;\n",
              "}\n",
              "\n",
              "#sk-container-id-5 div.sk-parallel-item {\n",
              "  display: flex;\n",
              "  flex-direction: column;\n",
              "}\n",
              "\n",
              "#sk-container-id-5 div.sk-parallel-item:first-child::after {\n",
              "  align-self: flex-end;\n",
              "  width: 50%;\n",
              "}\n",
              "\n",
              "#sk-container-id-5 div.sk-parallel-item:last-child::after {\n",
              "  align-self: flex-start;\n",
              "  width: 50%;\n",
              "}\n",
              "\n",
              "#sk-container-id-5 div.sk-parallel-item:only-child::after {\n",
              "  width: 0;\n",
              "}\n",
              "\n",
              "/* Serial-specific style estimator block */\n",
              "\n",
              "#sk-container-id-5 div.sk-serial {\n",
              "  display: flex;\n",
              "  flex-direction: column;\n",
              "  align-items: center;\n",
              "  background-color: var(--sklearn-color-background);\n",
              "  padding-right: 1em;\n",
              "  padding-left: 1em;\n",
              "}\n",
              "\n",
              "\n",
              "/* Toggleable style: style used for estimator/Pipeline/ColumnTransformer box that is\n",
              "clickable and can be expanded/collapsed.\n",
              "- Pipeline and ColumnTransformer use this feature and define the default style\n",
              "- Estimators will overwrite some part of the style using the `sk-estimator` class\n",
              "*/\n",
              "\n",
              "/* Pipeline and ColumnTransformer style (default) */\n",
              "\n",
              "#sk-container-id-5 div.sk-toggleable {\n",
              "  /* Default theme specific background. It is overwritten whether we have a\n",
              "  specific estimator or a Pipeline/ColumnTransformer */\n",
              "  background-color: var(--sklearn-color-background);\n",
              "}\n",
              "\n",
              "/* Toggleable label */\n",
              "#sk-container-id-5 label.sk-toggleable__label {\n",
              "  cursor: pointer;\n",
              "  display: flex;\n",
              "  width: 100%;\n",
              "  margin-bottom: 0;\n",
              "  padding: 0.5em;\n",
              "  box-sizing: border-box;\n",
              "  text-align: center;\n",
              "  align-items: start;\n",
              "  justify-content: space-between;\n",
              "  gap: 0.5em;\n",
              "}\n",
              "\n",
              "#sk-container-id-5 label.sk-toggleable__label .caption {\n",
              "  font-size: 0.6rem;\n",
              "  font-weight: lighter;\n",
              "  color: var(--sklearn-color-text-muted);\n",
              "}\n",
              "\n",
              "#sk-container-id-5 label.sk-toggleable__label-arrow:before {\n",
              "  /* Arrow on the left of the label */\n",
              "  content: \"▸\";\n",
              "  float: left;\n",
              "  margin-right: 0.25em;\n",
              "  color: var(--sklearn-color-icon);\n",
              "}\n",
              "\n",
              "#sk-container-id-5 label.sk-toggleable__label-arrow:hover:before {\n",
              "  color: var(--sklearn-color-text);\n",
              "}\n",
              "\n",
              "/* Toggleable content - dropdown */\n",
              "\n",
              "#sk-container-id-5 div.sk-toggleable__content {\n",
              "  max-height: 0;\n",
              "  max-width: 0;\n",
              "  overflow: hidden;\n",
              "  text-align: left;\n",
              "  /* unfitted */\n",
              "  background-color: var(--sklearn-color-unfitted-level-0);\n",
              "}\n",
              "\n",
              "#sk-container-id-5 div.sk-toggleable__content.fitted {\n",
              "  /* fitted */\n",
              "  background-color: var(--sklearn-color-fitted-level-0);\n",
              "}\n",
              "\n",
              "#sk-container-id-5 div.sk-toggleable__content pre {\n",
              "  margin: 0.2em;\n",
              "  border-radius: 0.25em;\n",
              "  color: var(--sklearn-color-text);\n",
              "  /* unfitted */\n",
              "  background-color: var(--sklearn-color-unfitted-level-0);\n",
              "}\n",
              "\n",
              "#sk-container-id-5 div.sk-toggleable__content.fitted pre {\n",
              "  /* unfitted */\n",
              "  background-color: var(--sklearn-color-fitted-level-0);\n",
              "}\n",
              "\n",
              "#sk-container-id-5 input.sk-toggleable__control:checked~div.sk-toggleable__content {\n",
              "  /* Expand drop-down */\n",
              "  max-height: 200px;\n",
              "  max-width: 100%;\n",
              "  overflow: auto;\n",
              "}\n",
              "\n",
              "#sk-container-id-5 input.sk-toggleable__control:checked~label.sk-toggleable__label-arrow:before {\n",
              "  content: \"▾\";\n",
              "}\n",
              "\n",
              "/* Pipeline/ColumnTransformer-specific style */\n",
              "\n",
              "#sk-container-id-5 div.sk-label input.sk-toggleable__control:checked~label.sk-toggleable__label {\n",
              "  color: var(--sklearn-color-text);\n",
              "  background-color: var(--sklearn-color-unfitted-level-2);\n",
              "}\n",
              "\n",
              "#sk-container-id-5 div.sk-label.fitted input.sk-toggleable__control:checked~label.sk-toggleable__label {\n",
              "  background-color: var(--sklearn-color-fitted-level-2);\n",
              "}\n",
              "\n",
              "/* Estimator-specific style */\n",
              "\n",
              "/* Colorize estimator box */\n",
              "#sk-container-id-5 div.sk-estimator input.sk-toggleable__control:checked~label.sk-toggleable__label {\n",
              "  /* unfitted */\n",
              "  background-color: var(--sklearn-color-unfitted-level-2);\n",
              "}\n",
              "\n",
              "#sk-container-id-5 div.sk-estimator.fitted input.sk-toggleable__control:checked~label.sk-toggleable__label {\n",
              "  /* fitted */\n",
              "  background-color: var(--sklearn-color-fitted-level-2);\n",
              "}\n",
              "\n",
              "#sk-container-id-5 div.sk-label label.sk-toggleable__label,\n",
              "#sk-container-id-5 div.sk-label label {\n",
              "  /* The background is the default theme color */\n",
              "  color: var(--sklearn-color-text-on-default-background);\n",
              "}\n",
              "\n",
              "/* On hover, darken the color of the background */\n",
              "#sk-container-id-5 div.sk-label:hover label.sk-toggleable__label {\n",
              "  color: var(--sklearn-color-text);\n",
              "  background-color: var(--sklearn-color-unfitted-level-2);\n",
              "}\n",
              "\n",
              "/* Label box, darken color on hover, fitted */\n",
              "#sk-container-id-5 div.sk-label.fitted:hover label.sk-toggleable__label.fitted {\n",
              "  color: var(--sklearn-color-text);\n",
              "  background-color: var(--sklearn-color-fitted-level-2);\n",
              "}\n",
              "\n",
              "/* Estimator label */\n",
              "\n",
              "#sk-container-id-5 div.sk-label label {\n",
              "  font-family: monospace;\n",
              "  font-weight: bold;\n",
              "  display: inline-block;\n",
              "  line-height: 1.2em;\n",
              "}\n",
              "\n",
              "#sk-container-id-5 div.sk-label-container {\n",
              "  text-align: center;\n",
              "}\n",
              "\n",
              "/* Estimator-specific */\n",
              "#sk-container-id-5 div.sk-estimator {\n",
              "  font-family: monospace;\n",
              "  border: 1px dotted var(--sklearn-color-border-box);\n",
              "  border-radius: 0.25em;\n",
              "  box-sizing: border-box;\n",
              "  margin-bottom: 0.5em;\n",
              "  /* unfitted */\n",
              "  background-color: var(--sklearn-color-unfitted-level-0);\n",
              "}\n",
              "\n",
              "#sk-container-id-5 div.sk-estimator.fitted {\n",
              "  /* fitted */\n",
              "  background-color: var(--sklearn-color-fitted-level-0);\n",
              "}\n",
              "\n",
              "/* on hover */\n",
              "#sk-container-id-5 div.sk-estimator:hover {\n",
              "  /* unfitted */\n",
              "  background-color: var(--sklearn-color-unfitted-level-2);\n",
              "}\n",
              "\n",
              "#sk-container-id-5 div.sk-estimator.fitted:hover {\n",
              "  /* fitted */\n",
              "  background-color: var(--sklearn-color-fitted-level-2);\n",
              "}\n",
              "\n",
              "/* Specification for estimator info (e.g. \"i\" and \"?\") */\n",
              "\n",
              "/* Common style for \"i\" and \"?\" */\n",
              "\n",
              ".sk-estimator-doc-link,\n",
              "a:link.sk-estimator-doc-link,\n",
              "a:visited.sk-estimator-doc-link {\n",
              "  float: right;\n",
              "  font-size: smaller;\n",
              "  line-height: 1em;\n",
              "  font-family: monospace;\n",
              "  background-color: var(--sklearn-color-background);\n",
              "  border-radius: 1em;\n",
              "  height: 1em;\n",
              "  width: 1em;\n",
              "  text-decoration: none !important;\n",
              "  margin-left: 0.5em;\n",
              "  text-align: center;\n",
              "  /* unfitted */\n",
              "  border: var(--sklearn-color-unfitted-level-1) 1pt solid;\n",
              "  color: var(--sklearn-color-unfitted-level-1);\n",
              "}\n",
              "\n",
              ".sk-estimator-doc-link.fitted,\n",
              "a:link.sk-estimator-doc-link.fitted,\n",
              "a:visited.sk-estimator-doc-link.fitted {\n",
              "  /* fitted */\n",
              "  border: var(--sklearn-color-fitted-level-1) 1pt solid;\n",
              "  color: var(--sklearn-color-fitted-level-1);\n",
              "}\n",
              "\n",
              "/* On hover */\n",
              "div.sk-estimator:hover .sk-estimator-doc-link:hover,\n",
              ".sk-estimator-doc-link:hover,\n",
              "div.sk-label-container:hover .sk-estimator-doc-link:hover,\n",
              ".sk-estimator-doc-link:hover {\n",
              "  /* unfitted */\n",
              "  background-color: var(--sklearn-color-unfitted-level-3);\n",
              "  color: var(--sklearn-color-background);\n",
              "  text-decoration: none;\n",
              "}\n",
              "\n",
              "div.sk-estimator.fitted:hover .sk-estimator-doc-link.fitted:hover,\n",
              ".sk-estimator-doc-link.fitted:hover,\n",
              "div.sk-label-container:hover .sk-estimator-doc-link.fitted:hover,\n",
              ".sk-estimator-doc-link.fitted:hover {\n",
              "  /* fitted */\n",
              "  background-color: var(--sklearn-color-fitted-level-3);\n",
              "  color: var(--sklearn-color-background);\n",
              "  text-decoration: none;\n",
              "}\n",
              "\n",
              "/* Span, style for the box shown on hovering the info icon */\n",
              ".sk-estimator-doc-link span {\n",
              "  display: none;\n",
              "  z-index: 9999;\n",
              "  position: relative;\n",
              "  font-weight: normal;\n",
              "  right: .2ex;\n",
              "  padding: .5ex;\n",
              "  margin: .5ex;\n",
              "  width: min-content;\n",
              "  min-width: 20ex;\n",
              "  max-width: 50ex;\n",
              "  color: var(--sklearn-color-text);\n",
              "  box-shadow: 2pt 2pt 4pt #999;\n",
              "  /* unfitted */\n",
              "  background: var(--sklearn-color-unfitted-level-0);\n",
              "  border: .5pt solid var(--sklearn-color-unfitted-level-3);\n",
              "}\n",
              "\n",
              ".sk-estimator-doc-link.fitted span {\n",
              "  /* fitted */\n",
              "  background: var(--sklearn-color-fitted-level-0);\n",
              "  border: var(--sklearn-color-fitted-level-3);\n",
              "}\n",
              "\n",
              ".sk-estimator-doc-link:hover span {\n",
              "  display: block;\n",
              "}\n",
              "\n",
              "/* \"?\"-specific style due to the `<a>` HTML tag */\n",
              "\n",
              "#sk-container-id-5 a.estimator_doc_link {\n",
              "  float: right;\n",
              "  font-size: 1rem;\n",
              "  line-height: 1em;\n",
              "  font-family: monospace;\n",
              "  background-color: var(--sklearn-color-background);\n",
              "  border-radius: 1rem;\n",
              "  height: 1rem;\n",
              "  width: 1rem;\n",
              "  text-decoration: none;\n",
              "  /* unfitted */\n",
              "  color: var(--sklearn-color-unfitted-level-1);\n",
              "  border: var(--sklearn-color-unfitted-level-1) 1pt solid;\n",
              "}\n",
              "\n",
              "#sk-container-id-5 a.estimator_doc_link.fitted {\n",
              "  /* fitted */\n",
              "  border: var(--sklearn-color-fitted-level-1) 1pt solid;\n",
              "  color: var(--sklearn-color-fitted-level-1);\n",
              "}\n",
              "\n",
              "/* On hover */\n",
              "#sk-container-id-5 a.estimator_doc_link:hover {\n",
              "  /* unfitted */\n",
              "  background-color: var(--sklearn-color-unfitted-level-3);\n",
              "  color: var(--sklearn-color-background);\n",
              "  text-decoration: none;\n",
              "}\n",
              "\n",
              "#sk-container-id-5 a.estimator_doc_link.fitted:hover {\n",
              "  /* fitted */\n",
              "  background-color: var(--sklearn-color-fitted-level-3);\n",
              "}\n",
              "</style><div id=\"sk-container-id-5\" class=\"sk-top-container\"><div class=\"sk-text-repr-fallback\"><pre>Pipeline(steps=[(&#x27;pre&#x27;,\n",
              "                 ColumnTransformer(transformers=[(&#x27;num&#x27;,\n",
              "                                                  Pipeline(steps=[(&#x27;imputer&#x27;,\n",
              "                                                                   SimpleImputer(strategy=&#x27;median&#x27;)),\n",
              "                                                                  (&#x27;scaler&#x27;,\n",
              "                                                                   StandardScaler())]),\n",
              "                                                  [&#x27;Unnamed: 0&#x27;, &#x27;year&#x27;,\n",
              "                                                   &#x27;danceability&#x27;, &#x27;energy&#x27;,\n",
              "                                                   &#x27;key&#x27;, &#x27;loudness&#x27;, &#x27;mode&#x27;,\n",
              "                                                   &#x27;speechiness&#x27;,\n",
              "                                                   &#x27;acousticness&#x27;,\n",
              "                                                   &#x27;instrumentalness&#x27;,\n",
              "                                                   &#x27;liveness&#x27;, &#x27;valence&#x27;,\n",
              "                                                   &#x27;tempo&#x27;, &#x27;duration_ms&#x27;,\n",
              "                                                   &#x27;time_signature&#x27;]),\n",
              "                                                 (&#x27;cat&#x27;,\n",
              "                                                  Pipeline(ste...\n",
              "                                                                   SimpleImputer(fill_value=&#x27;__missing__&#x27;,\n",
              "                                                                                 strategy=&#x27;constant&#x27;)),\n",
              "                                                                  (&#x27;encoder&#x27;,\n",
              "                                                                   OrdinalEncoder(handle_unknown=&#x27;use_encoded_value&#x27;,\n",
              "                                                                                  unknown_value=-1))]),\n",
              "                                                  [&#x27;artist_name&#x27;, &#x27;track_name&#x27;,\n",
              "                                                   &#x27;track_id&#x27;, &#x27;genre&#x27;])])),\n",
              "                (&#x27;smote&#x27;, SMOTE(n_jobs=-1, random_state=42)),\n",
              "                (&#x27;clf&#x27;,\n",
              "                 HistGradientBoostingClassifier(class_weight=&#x27;balanced&#x27;,\n",
              "                                                early_stopping=True,\n",
              "                                                learning_rate=0.01,\n",
              "                                                max_depth=50, max_iter=500,\n",
              "                                                random_state=42))])</pre><b>In a Jupyter environment, please rerun this cell to show the HTML representation or trust the notebook. <br />On GitHub, the HTML representation is unable to render, please try loading this page with nbviewer.org.</b></div><div class=\"sk-container\" hidden><div class=\"sk-item sk-dashed-wrapped\"><div class=\"sk-label-container\"><div class=\"sk-label fitted sk-toggleable\"><input class=\"sk-toggleable__control sk-hidden--visually\" id=\"sk-estimator-id-38\" type=\"checkbox\" ><label for=\"sk-estimator-id-38\" class=\"sk-toggleable__label fitted sk-toggleable__label-arrow\"><div><div>Pipeline</div></div><div><span class=\"sk-estimator-doc-link fitted\">i<span>Fitted</span></span></div></label><div class=\"sk-toggleable__content fitted\"><pre>Pipeline(steps=[(&#x27;pre&#x27;,\n",
              "                 ColumnTransformer(transformers=[(&#x27;num&#x27;,\n",
              "                                                  Pipeline(steps=[(&#x27;imputer&#x27;,\n",
              "                                                                   SimpleImputer(strategy=&#x27;median&#x27;)),\n",
              "                                                                  (&#x27;scaler&#x27;,\n",
              "                                                                   StandardScaler())]),\n",
              "                                                  [&#x27;Unnamed: 0&#x27;, &#x27;year&#x27;,\n",
              "                                                   &#x27;danceability&#x27;, &#x27;energy&#x27;,\n",
              "                                                   &#x27;key&#x27;, &#x27;loudness&#x27;, &#x27;mode&#x27;,\n",
              "                                                   &#x27;speechiness&#x27;,\n",
              "                                                   &#x27;acousticness&#x27;,\n",
              "                                                   &#x27;instrumentalness&#x27;,\n",
              "                                                   &#x27;liveness&#x27;, &#x27;valence&#x27;,\n",
              "                                                   &#x27;tempo&#x27;, &#x27;duration_ms&#x27;,\n",
              "                                                   &#x27;time_signature&#x27;]),\n",
              "                                                 (&#x27;cat&#x27;,\n",
              "                                                  Pipeline(ste...\n",
              "                                                                   SimpleImputer(fill_value=&#x27;__missing__&#x27;,\n",
              "                                                                                 strategy=&#x27;constant&#x27;)),\n",
              "                                                                  (&#x27;encoder&#x27;,\n",
              "                                                                   OrdinalEncoder(handle_unknown=&#x27;use_encoded_value&#x27;,\n",
              "                                                                                  unknown_value=-1))]),\n",
              "                                                  [&#x27;artist_name&#x27;, &#x27;track_name&#x27;,\n",
              "                                                   &#x27;track_id&#x27;, &#x27;genre&#x27;])])),\n",
              "                (&#x27;smote&#x27;, SMOTE(n_jobs=-1, random_state=42)),\n",
              "                (&#x27;clf&#x27;,\n",
              "                 HistGradientBoostingClassifier(class_weight=&#x27;balanced&#x27;,\n",
              "                                                early_stopping=True,\n",
              "                                                learning_rate=0.01,\n",
              "                                                max_depth=50, max_iter=500,\n",
              "                                                random_state=42))])</pre></div> </div></div><div class=\"sk-serial\"><div class=\"sk-item sk-dashed-wrapped\"><div class=\"sk-label-container\"><div class=\"sk-label fitted sk-toggleable\"><input class=\"sk-toggleable__control sk-hidden--visually\" id=\"sk-estimator-id-39\" type=\"checkbox\" ><label for=\"sk-estimator-id-39\" class=\"sk-toggleable__label fitted sk-toggleable__label-arrow\"><div><div>pre: ColumnTransformer</div></div><div><a class=\"sk-estimator-doc-link fitted\" rel=\"noreferrer\" target=\"_blank\" href=\"https://scikit-learn.org/1.6/modules/generated/sklearn.compose.ColumnTransformer.html\">?<span>Documentation for pre: ColumnTransformer</span></a></div></label><div class=\"sk-toggleable__content fitted\"><pre>ColumnTransformer(transformers=[(&#x27;num&#x27;,\n",
              "                                 Pipeline(steps=[(&#x27;imputer&#x27;,\n",
              "                                                  SimpleImputer(strategy=&#x27;median&#x27;)),\n",
              "                                                 (&#x27;scaler&#x27;, StandardScaler())]),\n",
              "                                 [&#x27;Unnamed: 0&#x27;, &#x27;year&#x27;, &#x27;danceability&#x27;,\n",
              "                                  &#x27;energy&#x27;, &#x27;key&#x27;, &#x27;loudness&#x27;, &#x27;mode&#x27;,\n",
              "                                  &#x27;speechiness&#x27;, &#x27;acousticness&#x27;,\n",
              "                                  &#x27;instrumentalness&#x27;, &#x27;liveness&#x27;, &#x27;valence&#x27;,\n",
              "                                  &#x27;tempo&#x27;, &#x27;duration_ms&#x27;, &#x27;time_signature&#x27;]),\n",
              "                                (&#x27;cat&#x27;,\n",
              "                                 Pipeline(steps=[(&#x27;imputer&#x27;,\n",
              "                                                  SimpleImputer(fill_value=&#x27;__missing__&#x27;,\n",
              "                                                                strategy=&#x27;constant&#x27;)),\n",
              "                                                 (&#x27;encoder&#x27;,\n",
              "                                                  OrdinalEncoder(handle_unknown=&#x27;use_encoded_value&#x27;,\n",
              "                                                                 unknown_value=-1))]),\n",
              "                                 [&#x27;artist_name&#x27;, &#x27;track_name&#x27;, &#x27;track_id&#x27;,\n",
              "                                  &#x27;genre&#x27;])])</pre></div> </div></div><div class=\"sk-parallel\"><div class=\"sk-parallel-item\"><div class=\"sk-item\"><div class=\"sk-label-container\"><div class=\"sk-label fitted sk-toggleable\"><input class=\"sk-toggleable__control sk-hidden--visually\" id=\"sk-estimator-id-40\" type=\"checkbox\" ><label for=\"sk-estimator-id-40\" class=\"sk-toggleable__label fitted sk-toggleable__label-arrow\"><div><div>num</div></div></label><div class=\"sk-toggleable__content fitted\"><pre>[&#x27;Unnamed: 0&#x27;, &#x27;year&#x27;, &#x27;danceability&#x27;, &#x27;energy&#x27;, &#x27;key&#x27;, &#x27;loudness&#x27;, &#x27;mode&#x27;, &#x27;speechiness&#x27;, &#x27;acousticness&#x27;, &#x27;instrumentalness&#x27;, &#x27;liveness&#x27;, &#x27;valence&#x27;, &#x27;tempo&#x27;, &#x27;duration_ms&#x27;, &#x27;time_signature&#x27;]</pre></div> </div></div><div class=\"sk-serial\"><div class=\"sk-item\"><div class=\"sk-serial\"><div class=\"sk-item\"><div class=\"sk-estimator fitted sk-toggleable\"><input class=\"sk-toggleable__control sk-hidden--visually\" id=\"sk-estimator-id-41\" type=\"checkbox\" ><label for=\"sk-estimator-id-41\" class=\"sk-toggleable__label fitted sk-toggleable__label-arrow\"><div><div>SimpleImputer</div></div><div><a class=\"sk-estimator-doc-link fitted\" rel=\"noreferrer\" target=\"_blank\" href=\"https://scikit-learn.org/1.6/modules/generated/sklearn.impute.SimpleImputer.html\">?<span>Documentation for SimpleImputer</span></a></div></label><div class=\"sk-toggleable__content fitted\"><pre>SimpleImputer(strategy=&#x27;median&#x27;)</pre></div> </div></div><div class=\"sk-item\"><div class=\"sk-estimator fitted sk-toggleable\"><input class=\"sk-toggleable__control sk-hidden--visually\" id=\"sk-estimator-id-42\" type=\"checkbox\" ><label for=\"sk-estimator-id-42\" class=\"sk-toggleable__label fitted sk-toggleable__label-arrow\"><div><div>StandardScaler</div></div><div><a class=\"sk-estimator-doc-link fitted\" rel=\"noreferrer\" target=\"_blank\" href=\"https://scikit-learn.org/1.6/modules/generated/sklearn.preprocessing.StandardScaler.html\">?<span>Documentation for StandardScaler</span></a></div></label><div class=\"sk-toggleable__content fitted\"><pre>StandardScaler()</pre></div> </div></div></div></div></div></div></div><div class=\"sk-parallel-item\"><div class=\"sk-item\"><div class=\"sk-label-container\"><div class=\"sk-label fitted sk-toggleable\"><input class=\"sk-toggleable__control sk-hidden--visually\" id=\"sk-estimator-id-43\" type=\"checkbox\" ><label for=\"sk-estimator-id-43\" class=\"sk-toggleable__label fitted sk-toggleable__label-arrow\"><div><div>cat</div></div></label><div class=\"sk-toggleable__content fitted\"><pre>[&#x27;artist_name&#x27;, &#x27;track_name&#x27;, &#x27;track_id&#x27;, &#x27;genre&#x27;]</pre></div> </div></div><div class=\"sk-serial\"><div class=\"sk-item\"><div class=\"sk-serial\"><div class=\"sk-item\"><div class=\"sk-estimator fitted sk-toggleable\"><input class=\"sk-toggleable__control sk-hidden--visually\" id=\"sk-estimator-id-44\" type=\"checkbox\" ><label for=\"sk-estimator-id-44\" class=\"sk-toggleable__label fitted sk-toggleable__label-arrow\"><div><div>SimpleImputer</div></div><div><a class=\"sk-estimator-doc-link fitted\" rel=\"noreferrer\" target=\"_blank\" href=\"https://scikit-learn.org/1.6/modules/generated/sklearn.impute.SimpleImputer.html\">?<span>Documentation for SimpleImputer</span></a></div></label><div class=\"sk-toggleable__content fitted\"><pre>SimpleImputer(fill_value=&#x27;__missing__&#x27;, strategy=&#x27;constant&#x27;)</pre></div> </div></div><div class=\"sk-item\"><div class=\"sk-estimator fitted sk-toggleable\"><input class=\"sk-toggleable__control sk-hidden--visually\" id=\"sk-estimator-id-45\" type=\"checkbox\" ><label for=\"sk-estimator-id-45\" class=\"sk-toggleable__label fitted sk-toggleable__label-arrow\"><div><div>OrdinalEncoder</div></div><div><a class=\"sk-estimator-doc-link fitted\" rel=\"noreferrer\" target=\"_blank\" href=\"https://scikit-learn.org/1.6/modules/generated/sklearn.preprocessing.OrdinalEncoder.html\">?<span>Documentation for OrdinalEncoder</span></a></div></label><div class=\"sk-toggleable__content fitted\"><pre>OrdinalEncoder(handle_unknown=&#x27;use_encoded_value&#x27;, unknown_value=-1)</pre></div> </div></div></div></div></div></div></div></div></div><div class=\"sk-item\"><div class=\"sk-estimator fitted sk-toggleable\"><input class=\"sk-toggleable__control sk-hidden--visually\" id=\"sk-estimator-id-46\" type=\"checkbox\" ><label for=\"sk-estimator-id-46\" class=\"sk-toggleable__label fitted sk-toggleable__label-arrow\"><div><div>SMOTE</div></div></label><div class=\"sk-toggleable__content fitted\"><pre>SMOTE(n_jobs=-1, random_state=42)</pre></div> </div></div><div class=\"sk-item\"><div class=\"sk-estimator fitted sk-toggleable\"><input class=\"sk-toggleable__control sk-hidden--visually\" id=\"sk-estimator-id-47\" type=\"checkbox\" ><label for=\"sk-estimator-id-47\" class=\"sk-toggleable__label fitted sk-toggleable__label-arrow\"><div><div>HistGradientBoostingClassifier</div></div><div><a class=\"sk-estimator-doc-link fitted\" rel=\"noreferrer\" target=\"_blank\" href=\"https://scikit-learn.org/1.6/modules/generated/sklearn.ensemble.HistGradientBoostingClassifier.html\">?<span>Documentation for HistGradientBoostingClassifier</span></a></div></label><div class=\"sk-toggleable__content fitted\"><pre>HistGradientBoostingClassifier(class_weight=&#x27;balanced&#x27;, early_stopping=True,\n",
              "                               learning_rate=0.01, max_depth=50, max_iter=500,\n",
              "                               random_state=42)</pre></div> </div></div></div></div></div></div>"
            ],
            "text/plain": [
              "Pipeline(steps=[('pre',\n",
              "                 ColumnTransformer(transformers=[('num',\n",
              "                                                  Pipeline(steps=[('imputer',\n",
              "                                                                   SimpleImputer(strategy='median')),\n",
              "                                                                  ('scaler',\n",
              "                                                                   StandardScaler())]),\n",
              "                                                  ['Unnamed: 0', 'year',\n",
              "                                                   'danceability', 'energy',\n",
              "                                                   'key', 'loudness', 'mode',\n",
              "                                                   'speechiness',\n",
              "                                                   'acousticness',\n",
              "                                                   'instrumentalness',\n",
              "                                                   'liveness', 'valence',\n",
              "                                                   'tempo', 'duration_ms',\n",
              "                                                   'time_signature']),\n",
              "                                                 ('cat',\n",
              "                                                  Pipeline(ste...\n",
              "                                                                   SimpleImputer(fill_value='__missing__',\n",
              "                                                                                 strategy='constant')),\n",
              "                                                                  ('encoder',\n",
              "                                                                   OrdinalEncoder(handle_unknown='use_encoded_value',\n",
              "                                                                                  unknown_value=-1))]),\n",
              "                                                  ['artist_name', 'track_name',\n",
              "                                                   'track_id', 'genre'])])),\n",
              "                ('smote', SMOTE(n_jobs=-1, random_state=42)),\n",
              "                ('clf',\n",
              "                 HistGradientBoostingClassifier(class_weight='balanced',\n",
              "                                                early_stopping=True,\n",
              "                                                learning_rate=0.01,\n",
              "                                                max_depth=50, max_iter=500,\n",
              "                                                random_state=42))])"
            ]
          },
          "execution_count": 61,
          "metadata": {},
          "output_type": "execute_result"
        }
      ],
      "source": [
        "gb_pipeline.fit(X_train, y_train)"
      ]
    },
    {
      "cell_type": "code",
      "execution_count": 63,
      "id": "SVI-_cozxuy0",
      "metadata": {
        "id": "SVI-_cozxuy0"
      },
      "outputs": [],
      "source": [
        "y_pred_gb = gb_pipeline.predict(X_test)"
      ]
    },
    {
      "cell_type": "code",
      "execution_count": 64,
      "id": "TXfR1kQXL1Q8",
      "metadata": {
        "colab": {
          "base_uri": "https://localhost:8080/",
          "height": 449
        },
        "id": "TXfR1kQXL1Q8",
        "outputId": "2c8284b4-e77f-4304-d7d1-b30e817e12a9"
      },
      "outputs": [
        {
          "data": {
            "image/png": "[encoded data removed]",
            "text/plain": [
              "<Figure size 640x480 with 2 Axes>"
            ]
          },
          "metadata": {},
          "output_type": "display_data"
        }
      ],
      "source": [
        "cm = confusion_matrix(y_test, y_pred_gb, normalize='true')\n",
        "disp = ConfusionMatrixDisplay(confusion_matrix=cm)\n",
        "disp.plot()\n",
        "\n",
        "plt.show()"
      ]
    },
    {
      "cell_type": "code",
      "execution_count": 25,
      "id": "4X0ONyI6L3DC",
      "metadata": {
        "colab": {
          "base_uri": "https://localhost:8080/"
        },
        "id": "4X0ONyI6L3DC",
        "outputId": "2ddeac18-84b9-41cd-c50f-3c5d4278d465"
      },
      "outputs": [
        {
          "name": "stdout",
          "output_type": "stream",
          "text": [
            "Accuracy = 0.9968140097347308\n",
            "Precision = 0.19557195571955718\n",
            "Recall = 0.09233449477351917\n",
            "F1 = 0.12544378698224853\n"
          ]
        }
      ],
      "source": [
        "model_quality_class(y_test, y_pred_gb)"
      ]
    },
    {
      "cell_type": "markdown",
      "id": "f72cdc00",
      "metadata": {},
      "source": [
        "Для моделей деревьев не получилось получить метрики лучше, чем в логистической регрессии, поэтому все интерпритация для логистической регрессии"
      ]
    }
  ],
  "metadata": {
    "colab": {
      "provenance": []
    },
    "kernelspec": {
      "display_name": "Python 3",
      "language": "python",
      "name": "python3"
    },
    "language_info": {
      "codemirror_mode": {
        "name": "ipython",
        "version": 3
      },
      "file_extension": ".py",
      "mimetype": "text/x-python",
      "name": "python",
      "nbconvert_exporter": "python",
      "pygments_lexer": "ipython3",
      "version": "3.9.6"
    }
  },
  "nbformat": 4,
  "nbformat_minor": 5
}
